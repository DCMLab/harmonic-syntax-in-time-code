{
 "cells": [
  {
   "cell_type": "code",
   "execution_count": 1,
   "metadata": {},
   "outputs": [],
   "source": [
    "import numpy as np\n",
    "import pandas as pd\n",
    "import seaborn as sns\n",
    "import matplotlib as matplotlib\n",
    "import matplotlib.pyplot as plt\n",
    "%matplotlib inline  "
   ]
  },
  {
   "cell_type": "code",
   "execution_count": 2,
   "metadata": {
    "collapsed": true
   },
   "outputs": [],
   "source": [
    "accs = pd.melt(pd.read_csv(\"ismirDataFinal.csv\"), id_vars=['model'], var_name='piece', value_name='tree accuracy')"
   ]
  },
  {
   "cell_type": "code",
   "execution_count": 3,
   "metadata": {},
   "outputs": [
    {
     "data": {
      "text/html": [
       "<div>\n",
       "<style scoped>\n",
       "    .dataframe tbody tr th:only-of-type {\n",
       "        vertical-align: middle;\n",
       "    }\n",
       "\n",
       "    .dataframe tbody tr th {\n",
       "        vertical-align: top;\n",
       "    }\n",
       "\n",
       "    .dataframe thead th {\n",
       "        text-align: right;\n",
       "    }\n",
       "</style>\n",
       "<table border=\"1\" class=\"dataframe\">\n",
       "  <thead>\n",
       "    <tr style=\"text-align: right;\">\n",
       "      <th></th>\n",
       "      <th>model</th>\n",
       "      <th>piece</th>\n",
       "      <th>tree accuracy</th>\n",
       "    </tr>\n",
       "  </thead>\n",
       "  <tbody>\n",
       "    <tr>\n",
       "      <th>0</th>\n",
       "      <td>random baseline</td>\n",
       "      <td>1</td>\n",
       "      <td>0.333333</td>\n",
       "    </tr>\n",
       "    <tr>\n",
       "      <th>1</th>\n",
       "      <td>harmony</td>\n",
       "      <td>1</td>\n",
       "      <td>0.250000</td>\n",
       "    </tr>\n",
       "    <tr>\n",
       "      <th>2</th>\n",
       "      <td>transp. harmony</td>\n",
       "      <td>1</td>\n",
       "      <td>0.166667</td>\n",
       "    </tr>\n",
       "    <tr>\n",
       "      <th>3</th>\n",
       "      <td>simple rhythm</td>\n",
       "      <td>1</td>\n",
       "      <td>0.583333</td>\n",
       "    </tr>\n",
       "    <tr>\n",
       "      <th>4</th>\n",
       "      <td>harmony &amp; simple rhythm</td>\n",
       "      <td>1</td>\n",
       "      <td>0.750000</td>\n",
       "    </tr>\n",
       "  </tbody>\n",
       "</table>\n",
       "</div>"
      ],
      "text/plain": [
       "                     model piece  tree accuracy\n",
       "0          random baseline     1       0.333333\n",
       "1                  harmony     1       0.250000\n",
       "2          transp. harmony     1       0.166667\n",
       "3            simple rhythm     1       0.583333\n",
       "4  harmony & simple rhythm     1       0.750000"
      ]
     },
     "execution_count": 3,
     "metadata": {},
     "output_type": "execute_result"
    }
   ],
   "source": [
    "modeldict = {\n",
    "    'RandomBaseline': 'random baseline',\n",
    "    'HarmonyModel': 'harmony',\n",
    "    'TransposedHarmonyModel': 'transp. harmony',\n",
    "    'PebbleModel': 'simple rhythm',\n",
    "    'HarmonyPebbleModel': 'harmony & simple rhythm',\n",
    "    'TransposedHarmonyPebbleModel': 'transp. harmony & simple rhythm',\n",
    "    'RhythmModel': 'rhythm',\n",
    "    'HarmonyRhythmModel': 'harmony & rhythm',\n",
    "    'TransposedHarmonyRhythmModel': 'transp. harmony & rhythm'\n",
    "}\n",
    "\n",
    "accs.model = accs.model.map(modeldict)\n",
    "\n",
    "accs.head()"
   ]
  },
  {
   "cell_type": "code",
   "execution_count": 4,
   "metadata": {},
   "outputs": [
    {
     "data": {
      "text/plain": [
       "model\n",
       "harmony                            0.456576\n",
       "harmony & rhythm                   0.619184\n",
       "harmony & simple rhythm            0.612401\n",
       "random baseline                    0.228506\n",
       "rhythm                             0.567398\n",
       "simple rhythm                      0.572701\n",
       "transp. harmony                    0.462501\n",
       "transp. harmony & rhythm           0.633077\n",
       "transp. harmony & simple rhythm    0.621904\n",
       "Name: tree accuracy, dtype: float64"
      ]
     },
     "execution_count": 4,
     "metadata": {},
     "output_type": "execute_result"
    }
   ],
   "source": [
    "means = accs.groupby('model')['tree accuracy'].mean()\n",
    "means"
   ]
  },
  {
   "cell_type": "markdown",
   "metadata": {},
   "source": [
    "# Visualizations"
   ]
  },
  {
   "cell_type": "code",
   "execution_count": 5,
   "metadata": {},
   "outputs": [
    {
     "name": "stderr",
     "output_type": "stream",
     "text": [
      "/Users/daniel/anaconda/lib/python3.6/site-packages/scipy/stats/stats.py:1706: FutureWarning: Using a non-tuple sequence for multidimensional indexing is deprecated; use `arr[tuple(seq)]` instead of `arr[seq]`. In the future this will be interpreted as an array index, `arr[np.array(seq)]`, which will result either in an error or a different result.\n",
      "  return np.add.reduce(sorted[indexer] * weights, axis=axis) / sumval\n"
     ]
    },
    {
     "data": {
      "image/png": "[encoded data removed]",
      "text/plain": [
       "<matplotlib.figure.Figure at 0x11f442ac8>"
      ]
     },
     "metadata": {},
     "output_type": "display_data"
    }
   ],
   "source": [
    "models = accs.model.unique()\n",
    "\n",
    "sns.set(style='whitegrid', font_scale=1.2)\n",
    "g = sns.catplot(data=accs, y='model', x='tree accuracy', kind='bar', color='#999999', aspect=1.2)\n",
    "\n",
    "for tick,m in zip(range(len(models)), models):\n",
    "    g.ax.text(0.02, tick, round(means[m], 4), verticalalignment='center', size=12.5, color='w', weight='semibold')\n",
    "\n",
    "plt.ylabel(\"\")\n",
    "plt.yticks(fontsize=14)\n",
    "plt.savefig('accs.svg')"
   ]
  },
  {
   "cell_type": "code",
   "execution_count": 6,
   "metadata": {},
   "outputs": [
    {
     "data": {
      "text/html": [
       "<div>\n",
       "<style scoped>\n",
       "    .dataframe tbody tr th:only-of-type {\n",
       "        vertical-align: middle;\n",
       "    }\n",
       "\n",
       "    .dataframe tbody tr th {\n",
       "        vertical-align: top;\n",
       "    }\n",
       "\n",
       "    .dataframe thead th {\n",
       "        text-align: right;\n",
       "    }\n",
       "</style>\n",
       "<table border=\"1\" class=\"dataframe\">\n",
       "  <thead>\n",
       "    <tr style=\"text-align: right;\">\n",
       "      <th></th>\n",
       "      <th>ratio</th>\n",
       "      <th>count</th>\n",
       "    </tr>\n",
       "  </thead>\n",
       "  <tbody>\n",
       "    <tr>\n",
       "      <th>0</th>\n",
       "      <td>$\\frac{1}{2}$</td>\n",
       "      <td>927</td>\n",
       "    </tr>\n",
       "    <tr>\n",
       "      <th>1</th>\n",
       "      <td>$\\frac{2}{3}$</td>\n",
       "      <td>170</td>\n",
       "    </tr>\n",
       "    <tr>\n",
       "      <th>2</th>\n",
       "      <td>$\\frac{3}{4}$</td>\n",
       "      <td>99</td>\n",
       "    </tr>\n",
       "    <tr>\n",
       "      <th>3</th>\n",
       "      <td>$\\frac{1}{3}$</td>\n",
       "      <td>76</td>\n",
       "    </tr>\n",
       "    <tr>\n",
       "      <th>4</th>\n",
       "      <td>$\\frac{4}{5}$</td>\n",
       "      <td>51</td>\n",
       "    </tr>\n",
       "  </tbody>\n",
       "</table>\n",
       "</div>"
      ],
      "text/plain": [
       "           ratio  count\n",
       "0  $\\frac{1}{2}$    927\n",
       "1  $\\frac{2}{3}$    170\n",
       "2  $\\frac{3}{4}$     99\n",
       "3  $\\frac{1}{3}$     76\n",
       "4  $\\frac{4}{5}$     51"
      ]
     },
     "execution_count": 6,
     "metadata": {},
     "output_type": "execute_result"
    }
   ],
   "source": [
    "ratios = pd.read_csv('leftSplitProportions.csv', names=['ratio', 'count'])\n",
    "ratios.ratio = ratios.ratio.map(lambda m: r'$\\frac{' + m.replace(' % ', '}{') + r'}$')\n",
    "ratios.head()"
   ]
  },
  {
   "cell_type": "code",
   "execution_count": 7,
   "metadata": {},
   "outputs": [
    {
     "data": {
      "image/png": "[encoded data removed]",
      "text/plain": [
       "<matplotlib.figure.Figure at 0x12157ee48>"
      ]
     },
     "metadata": {},
     "output_type": "display_data"
    }
   ],
   "source": [
    "g = sns.catplot(data=ratios.head(10), x='ratio', y='count', color='#999999', kind='bar', log=True, height=3.5, aspect=2)\n",
    "#g.set_yscale('log')\n",
    "plt.ylabel(\"split ratio of the left child\")\n",
    "matplotlib.rc('xtick', labelsize=20)\n",
    "plt.savefig('ratios.svg')\n",
    "plt.show()"
   ]
  },
  {
   "cell_type": "code",
   "execution_count": 8,
   "metadata": {},
   "outputs": [
    {
     "data": {
      "text/html": [
       "<div>\n",
       "<style scoped>\n",
       "    .dataframe tbody tr th:only-of-type {\n",
       "        vertical-align: middle;\n",
       "    }\n",
       "\n",
       "    .dataframe tbody tr th {\n",
       "        vertical-align: top;\n",
       "    }\n",
       "\n",
       "    .dataframe thead th {\n",
       "        text-align: right;\n",
       "    }\n",
       "</style>\n",
       "<table border=\"1\" class=\"dataframe\">\n",
       "  <thead>\n",
       "    <tr style=\"text-align: right;\">\n",
       "      <th></th>\n",
       "      <th>harmony rewrite rule</th>\n",
       "      <th>count</th>\n",
       "    </tr>\n",
       "  </thead>\n",
       "  <tbody>\n",
       "    <tr>\n",
       "      <th>0</th>\n",
       "      <td>Cm7$\\longrightarrow$Cm7   Cm7</td>\n",
       "      <td>115</td>\n",
       "    </tr>\n",
       "    <tr>\n",
       "      <th>1</th>\n",
       "      <td>G7$\\longrightarrow$Dm7   G7</td>\n",
       "      <td>84</td>\n",
       "    </tr>\n",
       "    <tr>\n",
       "      <th>2</th>\n",
       "      <td>C^7$\\longrightarrow$C^7   C^7</td>\n",
       "      <td>65</td>\n",
       "    </tr>\n",
       "    <tr>\n",
       "      <th>3</th>\n",
       "      <td>C6$\\longrightarrow$C6   C6</td>\n",
       "      <td>44</td>\n",
       "    </tr>\n",
       "    <tr>\n",
       "      <th>4</th>\n",
       "      <td>C^7$\\longrightarrow$G7   C^7</td>\n",
       "      <td>42</td>\n",
       "    </tr>\n",
       "  </tbody>\n",
       "</table>\n",
       "</div>"
      ],
      "text/plain": [
       "            harmony rewrite rule  count\n",
       "0  Cm7$\\longrightarrow$Cm7   Cm7    115\n",
       "1    G7$\\longrightarrow$Dm7   G7     84\n",
       "2  C^7$\\longrightarrow$C^7   C^7     65\n",
       "3     C6$\\longrightarrow$C6   C6     44\n",
       "4   C^7$\\longrightarrow$G7   C^7     42"
      ]
     },
     "execution_count": 8,
     "metadata": {},
     "output_type": "execute_result"
    }
   ],
   "source": [
    "rules = pd.read_csv('harmonyRuleCounts.csv', names=['harmony rewrite rule', 'count'], sep=';')\n",
    "rules['harmony rewrite rule'] = rules['harmony rewrite rule']\\\n",
    "    .map(lambda string: string[1:-1]\n",
    "         .replace('[0]^,[0]^,[0]^', 'C,C,C')\n",
    "         .replace(',', r'$\\longrightarrow$', 1)\n",
    "         .replace(',', r'   ')\n",
    "         .replace('%',r'$\\emptyset$')\n",
    "         .replace('[0]', r'C')\n",
    "         .replace('[1]', r'D$\\flat$')\n",
    "         .replace('[2]', r'D')\n",
    "         .replace('[3]', r'E$\\flat$')\n",
    "         .replace('[4]', r'E')\n",
    "         .replace('[5]', r'F')\n",
    "         .replace('[6]', r'G$\\flat$')\n",
    "         .replace('[7]', r'G')\n",
    "         .replace('[8]', r'A$\\flat$')\n",
    "         .replace('[9]', r'A')\n",
    "         .replace('[10]', r'B$\\flat$')\n",
    "         .replace('[11]', r'B')\n",
    "        )\n",
    "rules.head()"
   ]
  },
  {
   "cell_type": "code",
   "execution_count": 9,
   "metadata": {},
   "outputs": [
    {
     "data": {
      "image/png": "[encoded data removed]",
      "text/plain": [
       "<matplotlib.figure.Figure at 0x12194fa58>"
      ]
     },
     "metadata": {},
     "output_type": "display_data"
    }
   ],
   "source": [
    "sns.set(style='whitegrid')\n",
    "sns.catplot(data=rules.head(20), y='harmony rewrite rule', x='count', color='#999999', kind='bar')\n",
    "plt.savefig('rules.svg')"
   ]
  },
  {
   "cell_type": "markdown",
   "metadata": {},
   "source": [
    "# Bootstrap tests"
   ]
  },
  {
   "cell_type": "code",
   "execution_count": 11,
   "metadata": {},
   "outputs": [],
   "source": [
    "def bootstrap_test(higher, lower, n=100000):\n",
    "    xs = higher\n",
    "    ys = lower\n",
    "    m = np.mean(xs) - np.mean(ys)\n",
    "    zs = np.concatenate((xs,ys))\n",
    "    boots = np.random.choice(ys, size=(n,len(zs)))\n",
    "    return np.sum(np.mean(boots[:,0:len(xs)], 1) - np.mean(boots[:,len(xs)+1:], 1) > m)\n",
    "\n",
    "def bootstrap_pvalue(higher, lower, n=100000):\n",
    "    return bootstrap_test(higher, lower, n=100000) / n\n",
    "\n",
    "def bootstrap_test_models(model1, model2, n):\n",
    "    return bootstrap_test(\n",
    "        accs[accs.model == model1]['tree accuracy'].values,\n",
    "        accs[accs.model == model2]['tree accuracy'].values,\n",
    "        n\n",
    "    )"
   ]
  },
  {
   "cell_type": "code",
   "execution_count": 12,
   "metadata": {
    "scrolled": false
   },
   "outputs": [
    {
     "name": "stdout",
     "output_type": "stream",
     "text": [
      "harmony\n",
      "random baseline\n",
      "0\n",
      "0.0\n",
      "\n",
      "transp. harmony\n",
      "random baseline\n",
      "0\n",
      "0.0\n",
      "\n",
      "simple rhythm\n",
      "random baseline\n",
      "0\n",
      "0.0\n",
      "\n",
      "simple rhythm\n",
      "harmony\n",
      "3\n",
      "3e-05\n",
      "\n",
      "simple rhythm\n",
      "transp. harmony\n",
      "18\n",
      "0.00018\n",
      "\n",
      "harmony & simple rhythm\n",
      "random baseline\n",
      "0\n",
      "0.0\n",
      "\n",
      "harmony & simple rhythm\n",
      "harmony\n",
      "0\n",
      "0.0\n",
      "\n",
      "harmony & simple rhythm\n",
      "transp. harmony\n",
      "0\n",
      "0.0\n",
      "\n",
      "transp. harmony & simple rhythm\n",
      "random baseline\n",
      "0\n",
      "0.0\n",
      "\n",
      "transp. harmony & simple rhythm\n",
      "harmony\n",
      "0\n",
      "0.0\n",
      "\n",
      "transp. harmony & simple rhythm\n",
      "transp. harmony\n",
      "0\n",
      "0.0\n",
      "\n",
      "transp. harmony & simple rhythm\n",
      "rhythm\n",
      "8636\n",
      "0.08636\n",
      "\n",
      "rhythm\n",
      "random baseline\n",
      "0\n",
      "0.0\n",
      "\n",
      "rhythm\n",
      "harmony\n",
      "4\n",
      "4e-05\n",
      "\n",
      "rhythm\n",
      "transp. harmony\n",
      "34\n",
      "0.00034\n",
      "\n",
      "harmony & rhythm\n",
      "random baseline\n",
      "0\n",
      "0.0\n",
      "\n",
      "harmony & rhythm\n",
      "harmony\n",
      "0\n",
      "0.0\n",
      "\n",
      "harmony & rhythm\n",
      "transp. harmony\n",
      "0\n",
      "0.0\n",
      "\n",
      "harmony & rhythm\n",
      "rhythm\n",
      "9637\n",
      "0.09637\n",
      "\n",
      "transp. harmony & rhythm\n",
      "random baseline\n",
      "0\n",
      "0.0\n",
      "\n",
      "transp. harmony & rhythm\n",
      "harmony\n",
      "0\n",
      "0.0\n",
      "\n",
      "transp. harmony & rhythm\n",
      "transp. harmony\n",
      "0\n",
      "0.0\n",
      "\n",
      "transp. harmony & rhythm\n",
      "simple rhythm\n",
      "6115\n",
      "0.06115\n",
      "\n",
      "transp. harmony & rhythm\n",
      "rhythm\n",
      "5032\n",
      "0.05032\n",
      "\n"
     ]
    }
   ],
   "source": [
    "n = 100000\n",
    "\n",
    "for model1 in models:\n",
    "    for model2 in models:\n",
    "        b = bootstrap_test_models(model1, model2, n)\n",
    "        if b/n < 0.1:\n",
    "            print(model1)\n",
    "            print(model2)\n",
    "            print(b)\n",
    "            print(b/n)\n",
    "            print()"
   ]
  },
  {
   "cell_type": "code",
   "execution_count": null,
   "metadata": {
    "collapsed": true
   },
   "outputs": [],
   "source": []
  }
 ],
 "metadata": {
  "kernelspec": {
   "display_name": "Python [default]",
   "language": "python",
   "name": "python3"
  },
  "language_info": {
   "codemirror_mode": {
    "name": "ipython",
    "version": 3
   },
   "file_extension": ".py",
   "mimetype": "text/x-python",
   "name": "python",
   "nbconvert_exporter": "python",
   "pygments_lexer": "ipython3",
   "version": "3.6.0"
  }
 },
 "nbformat": 4,
 "nbformat_minor": 2
}
